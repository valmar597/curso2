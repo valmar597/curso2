{
  "nbformat": 4,
  "nbformat_minor": 0,
  "metadata": {
    "colab": {
      "provenance": [],
      "authorship_tag": "ABX9TyNr3hfA5uMyrJwnziq2tVaR",
      "include_colab_link": true
    },
    "kernelspec": {
      "name": "python3",
      "display_name": "Python 3"
    },
    "language_info": {
      "name": "python"
    }
  },
  "cells": [
    {
      "cell_type": "markdown",
      "metadata": {
        "id": "view-in-github",
        "colab_type": "text"
      },
      "source": [
        "<a href=\"https://colab.research.google.com/github/valmar597/curso2/blob/master/Untitled1.ipynb\" target=\"_parent\"><img src=\"https://colab.research.google.com/assets/colab-badge.svg\" alt=\"Open In Colab\"/></a>"
      ]
    },
    {
      "cell_type": "code",
      "execution_count": 13,
      "metadata": {
        "colab": {
          "base_uri": "https://localhost:8080/"
        },
        "id": "EsDbk7-S1m93",
        "outputId": "737aeef8-7ee3-47d7-ae58-2f3678e6487d"
      },
      "outputs": [
        {
          "output_type": "stream",
          "name": "stdout",
          "text": [
            "BENVINDO AO CURSO VALTEC MECANICA!\n",
            "\n",
            "DIGITE SEU NOME PARA COMEÇARMOS, POR GENTILEZA:  rtyrtyjhr\n",
            "Olá, rtyrtyjhr. Oque você gostaria de saber?     rtr\n",
            "Essa foi a sua pergunta: rtr   \n"
          ]
        }
      ],
      "source": [
        "print('BENVINDO AO CURSO VALTEC MECANICA!\\n')\n",
        "nome = input('DIGITE SEU NOME PARA COMEÇARMOS, POR GENTILEZA:  ' )\n",
        "\n",
        "pergunta = input(f'Olá, {nome}. Oque você gostaria de saber?     ' )\n",
        "\n",
        "print(f'Essa foi a sua pergunta: {pergunta}   ' )"
      ]
    },
    {
      "cell_type": "code",
      "source": [
        "\n",
        "nome_pessoa ='Adriana'\n",
        "idade =35\n",
        "altura =1.65\n",
        "print(nome_pessoa,idade,altura)\n",
        "print(nome_pessoa)\n",
        "print(idade)\n",
        "print(altura)"
      ],
      "metadata": {
        "colab": {
          "base_uri": "https://localhost:8080/"
        },
        "id": "-a60A7mJ2g94",
        "outputId": "eaafb185-6119-4e68-e504-786449fcde5f"
      },
      "execution_count": 17,
      "outputs": [
        {
          "output_type": "stream",
          "name": "stdout",
          "text": [
            "Adriana 35 1.65\n",
            "Adriana\n",
            "35\n",
            "1.65\n"
          ]
        }
      ]
    },
    {
      "cell_type": "code",
      "source": [
        "print('Benvindos ao ChatBot   Soluções de Mecânica\\n')\n",
        "\n",
        "nome = input(\"Digte seu nome  para começarmos : \")\n",
        "print(f'Olá {nome}, ')\n",
        "pergunta = input(f\"Qual é o sintoma do seu veículo? \")\n",
        "\n"
      ],
      "metadata": {
        "colab": {
          "base_uri": "https://localhost:8080/"
        },
        "id": "TGHG0bjf5v28",
        "outputId": "74b205d5-ee59-41ff-f4e1-430536ae936d"
      },
      "execution_count": null,
      "outputs": [
        {
          "output_type": "stream",
          "name": "stdout",
          "text": [
            "Benvindos ao ChatBot   Soluções de Mecânica\n",
            "\n",
            "Digte seu nome  para começarmos : valmar\n",
            "Olá valmar, \n"
          ]
        }
      ]
    }
  ]
}